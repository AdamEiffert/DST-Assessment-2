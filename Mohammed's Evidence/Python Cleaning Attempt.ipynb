{
 "cells": [
  {
   "cell_type": "code",
   "execution_count": null,
   "id": "e77e9a54",
   "metadata": {},
   "outputs": [],
   "source": [
    "con <- gzcon(url(paste(\"http://www.secrepo.com/maccdc2012/conn.log.gz\", sep=\"\")))\n",
    "txt <- readLines(con)\n",
    "dat <- read.csv(textConnection(txt))"
   ]
  },
  {
   "cell_type": "code",
   "execution_count": null,
   "id": "a0836012",
   "metadata": {},
   "outputs": [],
   "source": []
  }
 ],
 "metadata": {
  "kernelspec": {
   "display_name": "R",
   "language": "R",
   "name": "ir"
  },
  "language_info": {
   "codemirror_mode": "r",
   "file_extension": ".r",
   "mimetype": "text/x-r-source",
   "name": "R",
   "pygments_lexer": "r",
   "version": "3.6.1"
  }
 },
 "nbformat": 4,
 "nbformat_minor": 5
}
